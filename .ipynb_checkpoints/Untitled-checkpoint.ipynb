{
 "cells": [
  {
   "cell_type": "code",
   "execution_count": 24,
   "id": "5cc573c6",
   "metadata": {},
   "outputs": [
    {
     "name": "stdout",
     "output_type": "stream",
     "text": [
      "Please enter your full name: lg\n",
      "Hello lg Welcome to Leszek's Library\n",
      "Please state a nature of your visit: (for help type 'help')help\n",
      "Enter one of following commands:\n",
      "Rent - to rent a book,\n",
      "take back - to bring back a book,\n",
      "Availability - to check what books are available at the time\n",
      "Index - to find out book index\n"
     ]
    }
   ],
   "source": [
    "# Library\n",
    "# reason to visit\n",
    "\n",
    "full_name = input(\"Please enter your full name: \")\n",
    "welcome_message = print(f\"Hello {full_name} Welcome to Leszek's Library\")\n",
    "question = input(\"Please state a nature of your visit: (for help type 'help')\" ) \n",
    "\n",
    "if question == \"help\":\n",
    "    print(user_help) \n",
    "user_help = (\"Enter one of following commands:\\n\"\n",
    "\"Rent - to rent a book,\\r\"\n",
    "\"take back - to bring back a book,\\n\"\n",
    "\"Availability - to check what books are available at the time\\n\"\n",
    "\"Index - to find out book index\")\n",
    "        \n",
    "def  user_help(rent, take_back, availability, index):\n",
    "\n",
    "\n",
    "    books_total = {\n",
    "    \"1\" : \"Dune\",\n",
    "    \"2\" : \"Ender's Game\",\n",
    "    \"3\" : \"Solaris\"\n",
    "}        \n",
    "        \n",
    "\n"
   ]
  },
  {
   "cell_type": "code",
   "execution_count": null,
   "id": "b34f1dd9",
   "metadata": {},
   "outputs": [],
   "source": []
  }
 ],
 "metadata": {
  "kernelspec": {
   "display_name": "Python 3 (ipykernel)",
   "language": "python",
   "name": "python3"
  },
  "language_info": {
   "codemirror_mode": {
    "name": "ipython",
    "version": 3
   },
   "file_extension": ".py",
   "mimetype": "text/x-python",
   "name": "python",
   "nbconvert_exporter": "python",
   "pygments_lexer": "ipython3",
   "version": "3.11.4"
  }
 },
 "nbformat": 4,
 "nbformat_minor": 5
}
