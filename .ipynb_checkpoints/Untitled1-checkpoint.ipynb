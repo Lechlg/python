{
 "cells": [
  {
   "cell_type": "code",
   "execution_count": null,
   "id": "c75e3fc9",
   "metadata": {},
   "outputs": [],
   "source": [
    "Dodatkowe zadania do rowiązania podczas zajęć:\n",
    "Zadanie 1.\n",
    "Napisz program, który przekonwertuje poniższe listy w słownik.\n",
    "keys = ['Ten', 'Twenty', 'Thirty']\n",
    "values = [10, 20, 30]\n",
    "Podpowiedź: sprawdz czym jest funkcja zip()\n",
    "Zadanie 2.\n",
    "Połącz ze sobą dwa słowniki\n",
    "dict1 = {'Ten': 10, 'Twenty': 20, 'Thirty': 30}\n",
    "dict2 = {'Thirty': 30, 'Fourty': 40, 'Fifty': 50}\n",
    "Zadanie 3.\n",
    "Wyprintuj wartość, która jest przypisana do klucza 'history'\n",
    "sampleDict = {\n",
    "    \"class\": {\n",
    "        \"student\": {\n",
    "            \"name\": \"Mike\",\n",
    "            \"marks\": {\n",
    "                \"physics\": 70,\n",
    "                \"history\": 80\n",
    "            }\n",
    "        }\n",
    "    }\n",
    "}\n",
    "Zadanie 4.\n",
    "Napisz program, który dodać dwie listy indeksowo.\n",
    "Oczekiwany wynik: ['My', 'name', 'is', 'Kelly']\n",
    "\n",
    "list1 = [\"M\", \"na\", \"i\", \"Ke\"]\n",
    "list2 = [\"y\", \"me\", \"s\", \"lly\"]\n",
    "\n",
    "Zadanie 5\n",
    "Podnieść wszystkie elementy w liście do potęgi Ntej. Napisz funkcje.\n",
    "numbers = [1, 2, 3, 4, 5, 6, 7]\n",
    "\n",
    "Zadanie 6\n",
    "Połącz ze sobą dwie listy by otrzymać taki wynik: ['Hello Dear', 'Hello Sir', 'take Dear', 'take Sir']\n",
    "\n",
    "list1 = [\"Hello \", \"take \"]\n",
    "list2 = [\"Dear\", \"Sir\"]\n"
   ]
  },
  {
   "cell_type": "code",
   "execution_count": null,
   "id": "ba670efb",
   "metadata": {},
   "outputs": [],
   "source": [
    "Zadanie 1.\n",
    "Napisz program, który przekonwertuje poniższe listy w słownik.\n",
    "keys = ['Ten', 'Twenty', 'Thirty']\n",
    "values = [10, 20, 30]\n",
    "Podpowiedź: sprawdz czym jest funkcja zip()"
   ]
  },
  {
   "cell_type": "code",
   "execution_count": null,
   "id": "8228bee8",
   "metadata": {},
   "outputs": [],
   "source": [
    "keys = ['Ten', 'Twenty', 'Thirty']\n",
    "values = [10, 20, 30]\n",
    "zipper = zip(keys, values)\n",
    "print(dict(zipper))"
   ]
  },
  {
   "cell_type": "code",
   "execution_count": null,
   "id": "1f197bf5",
   "metadata": {},
   "outputs": [],
   "source": [
    "Zadanie 2.\n",
    "Połącz ze sobą dwa słowniki\n",
    "dict1 = {'Ten': 10, 'Twenty': 20, 'Thirty': 30}\n",
    "dict2 = {'Thirty': 30, 'Fourty': 40, 'Fifty': 50}"
   ]
  },
  {
   "cell_type": "code",
   "execution_count": null,
   "id": "ac8c5297",
   "metadata": {},
   "outputs": [],
   "source": [
    "dict1 = {'Ten': 10, 'Twenty': 20, 'Thirty': 30}\n",
    "dict2 = {'Thirty': 30, 'Fourty': 40, 'Fifty': 50}\n",
    "dict1.update(dict2)\n",
    "print(dict1)"
   ]
  },
  {
   "cell_type": "code",
   "execution_count": null,
   "id": "be9dd0b4",
   "metadata": {},
   "outputs": [],
   "source": [
    "Zadanie 3.\n",
    "Wyprintuj wartość, która jest przypisana do klucza 'history'\n",
    "sampleDict = {\n",
    "    \"class\": {\n",
    "        \"student\": {\n",
    "            \"name\": \"Mike\",\n",
    "            \"marks\": {\n",
    "                \"physics\": 70,\n",
    "                \"history\": 80\n",
    "            }\n",
    "        }\n",
    "    }\n",
    "}"
   ]
  },
  {
   "cell_type": "code",
   "execution_count": null,
   "id": "1df3ab61",
   "metadata": {},
   "outputs": [],
   "source": [
    "sampleDict = {\n",
    "    \"class\": {\n",
    "        \"student\": {\n",
    "            \"name\": \"Mike\",\n",
    "            \"marks\": {\n",
    "                \"physics\": 70,\n",
    "                \"history\": 80\n",
    "            }\n",
    "        }\n",
    "    }\n",
    "}\n",
    "print(sampleDict[\"class\"][\"student\"][\"marks\"][\"history\"])"
   ]
  },
  {
   "cell_type": "code",
   "execution_count": null,
   "id": "19e672de",
   "metadata": {},
   "outputs": [],
   "source": [
    "Zadanie 4.\n",
    "Napisz program, który dodać dwie listy indeksowo.\n",
    "Oczekiwany wynik: ['My', 'name', 'is', 'Kelly']\n",
    "\n",
    "list1 = [\"M\", \"na\", \"i\", \"Ke\"]\n",
    "list2 = [\"y\", \"me\", \"s\", \"lly\"]\n"
   ]
  },
  {
   "cell_type": "code",
   "execution_count": null,
   "id": "8fbbe4c2",
   "metadata": {},
   "outputs": [],
   "source": [
    "list1 = [\"M\", \"na\", \"i\", \"Ke\"]\n",
    "list2 = [\"y\", \"me\", \"s\", \"lly\"]\n",
    "list3 = [letter + letters for letter, letters in zip(list1, list2)]\n",
    "list4 = list(zip(list1, list2))\n",
    "list5 = [letter + letters for letter, letters in zip(list1, list2)]\n",
    "print(str(list4))\n",
    "print(str(list3))\n",
    "print(str(list5))"
   ]
  },
  {
   "cell_type": "code",
   "execution_count": null,
   "id": "6c283e0d",
   "metadata": {},
   "outputs": [],
   "source": [
    "Zadanie 5\n",
    "Podnieść wszystkie elementy w liście do potęgi Ntej. Napisz funkcje.\n",
    "numbers = [1, 2, 3, 4, 5, 6, 7]"
   ]
  },
  {
   "cell_type": "code",
   "execution_count": null,
   "id": "35dc22eb",
   "metadata": {},
   "outputs": [],
   "source": [
    "numbers = [1, 2, 3, 4, 5, 6, 7]\n",
    "def power_n(numbers, n):\n",
    "    for number in numbers:\n",
    "        result = pow(number, n)\n",
    "        print(result)\n",
    "        \n",
    "\n",
    "        \n",
    "power_n(numbers, 2)\n",
    "\n",
    "\n",
    "\n",
    "\n"
   ]
  },
  {
   "cell_type": "code",
   "execution_count": null,
   "id": "91d524d8",
   "metadata": {},
   "outputs": [],
   "source": [
    "my_wife = input()\n",
    "if my_wife == \"I miau-miau U :*\":\n",
    "    print(\"i miau-miau U two :*\")"
   ]
  },
  {
   "cell_type": "code",
   "execution_count": null,
   "id": "dded4d4e",
   "metadata": {},
   "outputs": [],
   "source": [
    "\n",
    "\n",
    "list1 = [\"Hello \", \"take \"]\n",
    "list2 = [\"Dear\", \"Sir\"]\n",
    "list3 = []\n",
    "for i in list1:\n",
    "    for x in list2:\n",
    "        combined = i + x\n",
    "        list3.append(combined)\n",
    "print(list3)"
   ]
  },
  {
   "cell_type": "code",
   "execution_count": null,
   "id": "3790c682",
   "metadata": {},
   "outputs": [],
   "source": [
    "Napisz funkcję, która przyjmie listę jako parametr i \n",
    "zwróci informację o ilości elementów znajdujących się w tej liście.\n",
    "Nie używaj wbudowanej funkcji: len() oraz count()\n",
    "listed =  12, 16, 11, 10, 14, 13\n",
    "\n"
   ]
  },
  {
   "cell_type": "code",
   "execution_count": null,
   "id": "cef0aa10",
   "metadata": {},
   "outputs": [],
   "source": [
    "listed =  [12, 16, 11, 10, 14, 13]\n",
    "count = 0\n",
    "for i in listed:\n",
    "    count += 1\n",
    "print(count)\n",
    "    \n"
   ]
  },
  {
   "cell_type": "code",
   "execution_count": null,
   "id": "923890af",
   "metadata": {},
   "outputs": [],
   "source": [
    "Napisz funkcję, która przyjmie listę jako parametr i \n",
    "zwróci informację o maksymalnej liczbie znajdującej się w liście.\n",
    "Nie używaj wbudowanej funkcji max()"
   ]
  },
  {
   "cell_type": "code",
   "execution_count": null,
   "id": "07770a30",
   "metadata": {},
   "outputs": [],
   "source": [
    "listed =  [12, 16, 11, 10, 14, 13]\n",
    "listed.sort()\n",
    "print(listed[-1])\n",
    "\n",
    "maximum = listed[0]\n",
    "for number in listed:\n",
    "    if number > maximum:\n",
    "        maximum = number\n",
    "print(number)\n"
   ]
  },
  {
   "cell_type": "code",
   "execution_count": null,
   "id": "3ebbd31f",
   "metadata": {},
   "outputs": [],
   "source": [
    "Napisz funkcję, która sprawdzi czy podany przez użytkownika string jest panagramem."
   ]
  },
  {
   "cell_type": "code",
   "execution_count": null,
   "id": "86bfee61",
   "metadata": {},
   "outputs": [],
   "source": [
    "alphabet = \"abcdefghijklmnopqrstuvwxyz\"\n",
    "str2 = \"a bcde  fghi jk lm no   pqrs t uv wxyz\"\n",
    "import string\n",
    "\n",
    "def is_pangram(str2):\n",
    "    alphabet_test = set(string.ascii_lowercase)\n",
    "    str2 = set(str2)\n",
    "    return alphabet_test.issubset(str2)\n",
    "if is_pangram(str2):\n",
    "    print(\"The input string is a pangram.\")\n",
    "else:\n",
    "    print(\"The input string is not a pangram.\")\n",
    "\n"
   ]
  },
  {
   "cell_type": "code",
   "execution_count": null,
   "id": "331a2e1e",
   "metadata": {},
   "outputs": [],
   "source": [
    "Napisz aplikację - grę kółko i krzyżyk używając funkcji.\n",
    "Każda czynność powinna być osobną \n",
    "funkcją (input użytkownika, sprawdzenie czy ktoś wygrał, wybór gracza, powtórzenie ruchu etc.)"
   ]
  },
  {
   "cell_type": "code",
   "execution_count": null,
   "id": "66ab89a2",
   "metadata": {
    "scrolled": true
   },
   "outputs": [
    {
     "name": "stdout",
     "output_type": "stream",
     "text": [
      "This is your game field:\n",
      "1 2 3\n",
      "4 5 6\n",
      "7 8 9\n",
      "Please enter your name: lg\n",
      "Please enter your choice ( X or O ): x\n",
      "Where do you want to place your mark? (choice 1-9) 6\n",
      "[[' ' ' ' ' ']\n",
      " ['O' ' ' 'X']\n",
      " [' ' ' ' ' ']]\n"
     ]
    }
   ],
   "source": [
    "import numpy as np\n",
    "\n",
    "import array\n",
    "\n",
    "import random\n",
    "\n",
    "matrix_blank = np.array( [[' ', ' ', ' '], [' ', ' ', ' '], [' ', ' ', ' ']])\n",
    "matrix = np.array( [['1', '2', '3'], ['4', '5', '6'], ['7', '8', '9']])\n",
    "    \n",
    "def initialize_game():\n",
    "    global matrix_blank, player_moves, computer_moves\n",
    "\n",
    "    \n",
    "def print_game_field():\n",
    "\n",
    "    \n",
    "    print('This is your game field:')\n",
    "    for row in matrix:\n",
    "        print(' '.join(row))\n",
    "        \n",
    "        \n",
    "    \n",
    "def check_win(player):\n",
    "    for i in range(3):\n",
    "        if all(matrix[i, :] == player) or all(matrix[:, i] == player):\n",
    "            return True\n",
    "    if np.all(np.diag(matrix) == player) or np.all(np.diag(np.fliplr(matrix)) == player):\n",
    "        return True\n",
    "    return False       \n",
    "\n",
    "\n",
    "def random_move(): \n",
    "    global matrix_blank\n",
    "    while True:\n",
    "        random_number = random.randint(1, 9)\n",
    "        row = (random_number - 1) // 3\n",
    "        col = (random_number - 1) % 3\n",
    "        if matrix_blank[row, col] == ' ':\n",
    "            matrix_blank[row, col] = computer\n",
    "            print(matrix_blank)\n",
    "            break\n",
    "            \n",
    "\n",
    "def is_board_full():\n",
    "    return not (' ' in matrix_blank)\n",
    "        \n",
    "        \n",
    "def game():\n",
    "    global matrix_blank\n",
    "    print_game_field()\n",
    "    player_name = input(\"Please enter your name: \")\n",
    "    xo = input(\"Please enter your choice ( X or O ): \").lower()\n",
    "    if xo not in [\"x\",\"o\"]:\n",
    "        print(\"Choose between X and O\")\n",
    "        xo = input(\"Please enter your choice ( X or O ): \").lower()\n",
    "        \n",
    "    number = int(input(\"Where do you want to place your mark? (choice 1-9) \"))\n",
    "    if 1 < number > 9:\n",
    "        print(\"Incorrect number, you must choose from between 1-9\")\n",
    "        number = int(input(\"Where do you want to place your mark? (choice 1-9) \"))\n",
    "        \n",
    "    row = (number - 1) // 3  \n",
    "    col = (number - 1) % 3\n",
    "    \n",
    "    global computer\n",
    "    if xo == \"x\":\n",
    "        xo = \"X\"\n",
    "    else:\n",
    "        xo = \"O\"\n",
    "    if xo == \"X\":\n",
    "        computer = \"O\"\n",
    "    else: \n",
    "        computer = \"X\"\n",
    "               \n",
    "    if matrix_blank[row, col] != ' ':\n",
    "        print(\"this spot is already occupied\")\n",
    "    else:\n",
    "        matrix_blank[row, col] = xo\n",
    "        random_move()\n",
    "    while True:    \n",
    "        if check_win(xo):\n",
    "            print(f\"Congratulations, {player_name}! You win!\")\n",
    "            break\n",
    "        if is_board_full():\n",
    "            print(\"It's a draw!\")\n",
    "            break\n",
    "\n",
    "        \n",
    "        \n",
    "\n",
    "    \n",
    "            \n",
    "            \n",
    "        \n",
    "\n",
    "    \n",
    "\n",
    "initialize_game()\n",
    "play_count = 0\n",
    "\n",
    "while play_count < 5:\n",
    "    game()\n",
    "    initialize_game()\n",
    "    play_count += 1\n",
    "\n",
    "\n",
    "    \n"
   ]
  },
  {
   "cell_type": "code",
   "execution_count": null,
   "id": "3b2e66a8",
   "metadata": {},
   "outputs": [],
   "source": []
  }
 ],
 "metadata": {
  "kernelspec": {
   "display_name": "Python 3 (ipykernel)",
   "language": "python",
   "name": "python3"
  },
  "language_info": {
   "codemirror_mode": {
    "name": "ipython",
    "version": 3
   },
   "file_extension": ".py",
   "mimetype": "text/x-python",
   "name": "python",
   "nbconvert_exporter": "python",
   "pygments_lexer": "ipython3",
   "version": "3.11.4"
  }
 },
 "nbformat": 4,
 "nbformat_minor": 5
}
