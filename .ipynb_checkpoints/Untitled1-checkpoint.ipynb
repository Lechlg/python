{
 "cells": [
  {
   "cell_type": "code",
   "execution_count": 1,
   "id": "c75e3fc9",
   "metadata": {},
   "outputs": [
    {
     "ename": "SyntaxError",
     "evalue": "invalid syntax (1947681331.py, line 1)",
     "output_type": "error",
     "traceback": [
      "\u001b[1;36m  Cell \u001b[1;32mIn[1], line 1\u001b[1;36m\u001b[0m\n\u001b[1;33m    Dodatkowe zadania do rowiązania podczas zajęć:\u001b[0m\n\u001b[1;37m              ^\u001b[0m\n\u001b[1;31mSyntaxError\u001b[0m\u001b[1;31m:\u001b[0m invalid syntax\n"
     ]
    }
   ],
   "source": [
    "Dodatkowe zadania do rowiązania podczas zajęć:\n",
    "Zadanie 1.\n",
    "Napisz program, który przekonwertuje poniższe listy w słownik.\n",
    "keys = ['Ten', 'Twenty', 'Thirty']\n",
    "values = [10, 20, 30]\n",
    "Podpowiedź: sprawdz czym jest funkcja zip()\n",
    "Zadanie 2.\n",
    "Połącz ze sobą dwa słowniki\n",
    "dict1 = {'Ten': 10, 'Twenty': 20, 'Thirty': 30}\n",
    "dict2 = {'Thirty': 30, 'Fourty': 40, 'Fifty': 50}\n",
    "Zadanie 3.\n",
    "Wyprintuj wartość, która jest przypisana do klucza 'history'\n",
    "sampleDict = {\n",
    "    \"class\": {\n",
    "        \"student\": {\n",
    "            \"name\": \"Mike\",\n",
    "            \"marks\": {\n",
    "                \"physics\": 70,\n",
    "                \"history\": 80\n",
    "            }\n",
    "        }\n",
    "    }\n",
    "}\n",
    "Zadanie 4.\n",
    "Napisz program, który dodać dwie listy indeksowo.\n",
    "Oczekiwany wynik: ['My', 'name', 'is', 'Kelly']\n",
    "\n",
    "list1 = [\"M\", \"na\", \"i\", \"Ke\"]\n",
    "list2 = [\"y\", \"me\", \"s\", \"lly\"]\n",
    "\n",
    "Zadanie 5\n",
    "Podnieść wszystkie elementy w liście do potęgi Ntej. Napisz funkcje.\n",
    "numbers = [1, 2, 3, 4, 5, 6, 7]\n",
    "\n",
    "Zadanie 6\n",
    "Połącz ze sobą dwie listy by otrzymać taki wynik: ['Hello Dear', 'Hello Sir', 'take Dear', 'take Sir']\n",
    "\n",
    "list1 = [\"Hello \", \"take \"]\n",
    "list2 = [\"Dear\", \"Sir\"]\n"
   ]
  },
  {
   "cell_type": "code",
   "execution_count": null,
   "id": "ba670efb",
   "metadata": {},
   "outputs": [],
   "source": [
    "Zadanie 1.\n",
    "Napisz program, który przekonwertuje poniższe listy w słownik.\n",
    "keys = ['Ten', 'Twenty', 'Thirty']\n",
    "values = [10, 20, 30]\n",
    "Podpowiedź: sprawdz czym jest funkcja zip()"
   ]
  },
  {
   "cell_type": "code",
   "execution_count": 1,
   "id": "8228bee8",
   "metadata": {},
   "outputs": [
    {
     "name": "stdout",
     "output_type": "stream",
     "text": [
      "{'Ten': 10, 'Twenty': 20, 'Thirty': 30}\n"
     ]
    }
   ],
   "source": [
    "keys = ['Ten', 'Twenty', 'Thirty']\n",
    "values = [10, 20, 30]\n",
    "zipper = zip(keys, values)\n",
    "print(dict(zipper))"
   ]
  },
  {
   "cell_type": "code",
   "execution_count": null,
   "id": "1f197bf5",
   "metadata": {},
   "outputs": [],
   "source": [
    "Zadanie 2.\n",
    "Połącz ze sobą dwa słowniki\n",
    "dict1 = {'Ten': 10, 'Twenty': 20, 'Thirty': 30}\n",
    "dict2 = {'Thirty': 30, 'Fourty': 40, 'Fifty': 50}"
   ]
  },
  {
   "cell_type": "code",
   "execution_count": 6,
   "id": "ac8c5297",
   "metadata": {},
   "outputs": [
    {
     "name": "stdout",
     "output_type": "stream",
     "text": [
      "{'Ten': 10, 'Twenty': 20, 'Thirty': 30, 'Fourty': 40, 'Fifty': 50}\n"
     ]
    }
   ],
   "source": [
    "dict1 = {'Ten': 10, 'Twenty': 20, 'Thirty': 30}\n",
    "dict2 = {'Thirty': 30, 'Fourty': 40, 'Fifty': 50}\n",
    "dict1.update(dict2)\n",
    "print(dict1)"
   ]
  },
  {
   "cell_type": "code",
   "execution_count": null,
   "id": "be9dd0b4",
   "metadata": {},
   "outputs": [],
   "source": [
    "Zadanie 3.\n",
    "Wyprintuj wartość, która jest przypisana do klucza 'history'\n",
    "sampleDict = {\n",
    "    \"class\": {\n",
    "        \"student\": {\n",
    "            \"name\": \"Mike\",\n",
    "            \"marks\": {\n",
    "                \"physics\": 70,\n",
    "                \"history\": 80\n",
    "            }\n",
    "        }\n",
    "    }\n",
    "}"
   ]
  },
  {
   "cell_type": "code",
   "execution_count": 1,
   "id": "1df3ab61",
   "metadata": {},
   "outputs": [
    {
     "name": "stdout",
     "output_type": "stream",
     "text": [
      "80\n"
     ]
    }
   ],
   "source": [
    "sampleDict = {\n",
    "    \"class\": {\n",
    "        \"student\": {\n",
    "            \"name\": \"Mike\",\n",
    "            \"marks\": {\n",
    "                \"physics\": 70,\n",
    "                \"history\": 80\n",
    "            }\n",
    "        }\n",
    "    }\n",
    "}\n",
    "print(sampleDict[\"class\"][\"student\"][\"marks\"][\"history\"])"
   ]
  },
  {
   "cell_type": "code",
   "execution_count": null,
   "id": "19e672de",
   "metadata": {},
   "outputs": [],
   "source": [
    "Zadanie 4.\n",
    "Napisz program, który dodać dwie listy indeksowo.\n",
    "Oczekiwany wynik: ['My', 'name', 'is', 'Kelly']\n",
    "\n",
    "list1 = [\"M\", \"na\", \"i\", \"Ke\"]\n",
    "list2 = [\"y\", \"me\", \"s\", \"lly\"]\n"
   ]
  },
  {
   "cell_type": "code",
   "execution_count": 17,
   "id": "8fbbe4c2",
   "metadata": {},
   "outputs": [
    {
     "name": "stdout",
     "output_type": "stream",
     "text": [
      "[('M', 'y'), ('na', 'me'), ('i', 's'), ('Ke', 'lly')]\n",
      "['My', 'name', 'is', 'Kelly']\n",
      "['My', 'name', 'is', 'Kelly']\n"
     ]
    }
   ],
   "source": [
    "list1 = [\"M\", \"na\", \"i\", \"Ke\"]\n",
    "list2 = [\"y\", \"me\", \"s\", \"lly\"]\n",
    "list3 = [letter + letters for letter, letters in zip(list1, list2)]\n",
    "list4 = list(zip(list1, list2))\n",
    "list5 = [letter + letters for letter, letters in zip(list1, list2)]\n",
    "print(str(list4))\n",
    "print(str(list3))\n",
    "print(str(list5))"
   ]
  },
  {
   "cell_type": "code",
   "execution_count": null,
   "id": "3584d0b9",
   "metadata": {},
   "outputs": [],
   "source": [
    "Zadanie 5\n",
    "Podnieść wszystkie elementy w liście do potęgi Ntej. Napisz funkcje.\n",
    "numbers = [1, 2, 3, 4, 5, 6, 7]"
   ]
  },
  {
   "cell_type": "code",
   "execution_count": 7,
   "id": "8cabb6fd",
   "metadata": {},
   "outputs": [
    {
     "name": "stdout",
     "output_type": "stream",
     "text": [
      "1\n",
      "4\n",
      "9\n",
      "16\n",
      "25\n",
      "36\n",
      "49\n"
     ]
    }
   ],
   "source": [
    "numbers = [1, 2, 3, 4, 5, 6, 7]\n",
    "def power_n(numbers, n):\n",
    "    for number in numbers:\n",
    "        result = pow(number, n)\n",
    "        print(result)\n",
    "        \n",
    "\n",
    "        \n",
    "power_n(numbers, 2)\n",
    "\n",
    "\n",
    "\n",
    "\n"
   ]
  },
  {
   "cell_type": "code",
   "execution_count": 25,
   "id": "d1bd5980",
   "metadata": {},
   "outputs": [
    {
     "name": "stdout",
     "output_type": "stream",
     "text": [
      "I miau-miau U :*\n",
      "i miau-miau U two :*\n"
     ]
    }
   ],
   "source": [
    "my_wife = input()\n",
    "if my_wife == \"I miau-miau U :*\":\n",
    "    print(\"i miau-miau U two :*\")"
   ]
  },
  {
   "cell_type": "code",
   "execution_count": 8,
   "id": "114c9c66",
   "metadata": {},
   "outputs": [
    {
     "name": "stdout",
     "output_type": "stream",
     "text": [
      "['Hello Dear', 'Hello Sir', 'take Dear', 'take Sir']\n"
     ]
    }
   ],
   "source": [
    "\n",
    "\n",
    "list1 = [\"Hello \", \"take \"]\n",
    "list2 = [\"Dear\", \"Sir\"]\n",
    "list3 = []\n",
    "for i in list1:\n",
    "    for x in list2:\n",
    "        combined = i + x\n",
    "        list3.append(combined)\n",
    "print(list3)"
   ]
  },
  {
   "cell_type": "code",
   "execution_count": null,
   "id": "304d28fc",
   "metadata": {},
   "outputs": [],
   "source": [
    "Napisz funkcję, która przyjmie listę jako parametr i \n",
    "zwróci informację o ilości elementów znajdujących się w tej liście.\n",
    "Nie używaj wbudowanej funkcji: len() oraz count()\n",
    "listed =  12, 16, 11, 10, 14, 13\n",
    "\n"
   ]
  },
  {
   "cell_type": "code",
   "execution_count": 12,
   "id": "32b2b15d",
   "metadata": {},
   "outputs": [
    {
     "name": "stdout",
     "output_type": "stream",
     "text": [
      "6\n"
     ]
    }
   ],
   "source": [
    "listed =  [12, 16, 11, 10, 14, 13]\n",
    "count = 0\n",
    "for i in listed:\n",
    "    count += 1\n",
    "print(count)\n",
    "    \n"
   ]
  },
  {
   "cell_type": "code",
   "execution_count": null,
   "id": "8f3be4dc",
   "metadata": {},
   "outputs": [],
   "source": [
    "Napisz funkcję, która przyjmie listę jako parametr i \n",
    "zwróci informację o maksymalnej liczbie znajdującej się w liście.\n",
    "Nie używaj wbudowanej funkcji max()"
   ]
  },
  {
   "cell_type": "code",
   "execution_count": null,
   "id": "1c178923",
   "metadata": {},
   "outputs": [],
   "source": []
  }
 ],
 "metadata": {
  "kernelspec": {
   "display_name": "Python 3 (ipykernel)",
   "language": "python",
   "name": "python3"
  },
  "language_info": {
   "codemirror_mode": {
    "name": "ipython",
    "version": 3
   },
   "file_extension": ".py",
   "mimetype": "text/x-python",
   "name": "python",
   "nbconvert_exporter": "python",
   "pygments_lexer": "ipython3",
   "version": "3.11.4"
  }
 },
 "nbformat": 4,
 "nbformat_minor": 5
}
