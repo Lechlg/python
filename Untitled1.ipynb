{
 "cells": [
  {
   "cell_type": "code",
   "execution_count": 1,
   "id": "c75e3fc9",
   "metadata": {},
   "outputs": [
    {
     "ename": "SyntaxError",
     "evalue": "invalid syntax (1947681331.py, line 1)",
     "output_type": "error",
     "traceback": [
      "\u001b[1;36m  Cell \u001b[1;32mIn[1], line 1\u001b[1;36m\u001b[0m\n\u001b[1;33m    Dodatkowe zadania do rowiązania podczas zajęć:\u001b[0m\n\u001b[1;37m              ^\u001b[0m\n\u001b[1;31mSyntaxError\u001b[0m\u001b[1;31m:\u001b[0m invalid syntax\n"
     ]
    }
   ],
   "source": [
    "Dodatkowe zadania do rowiązania podczas zajęć:\n",
    "Zadanie 1.\n",
    "Napisz program, który przekonwertuje poniższe listy w słownik.\n",
    "keys = ['Ten', 'Twenty', 'Thirty']\n",
    "values = [10, 20, 30]\n",
    "Podpowiedź: sprawdz czym jest funkcja zip()\n",
    "Zadanie 2.\n",
    "Połącz ze sobą dwa słowniki\n",
    "dict1 = {'Ten': 10, 'Twenty': 20, 'Thirty': 30}\n",
    "dict2 = {'Thirty': 30, 'Fourty': 40, 'Fifty': 50}\n",
    "Zadanie 3.\n",
    "Wyprintuj wartość, która jest przypisana do klucza 'history'\n",
    "sampleDict = {\n",
    "    \"class\": {\n",
    "        \"student\": {\n",
    "            \"name\": \"Mike\",\n",
    "            \"marks\": {\n",
    "                \"physics\": 70,\n",
    "                \"history\": 80\n",
    "            }\n",
    "        }\n",
    "    }\n",
    "}\n",
    "Zadanie 4.\n",
    "Napisz program, który dodać dwie listy indeksowo.\n",
    "Oczekiwany wynik: ['My', 'name', 'is', 'Kelly']\n",
    "\n",
    "list1 = [\"M\", \"na\", \"i\", \"Ke\"]\n",
    "list2 = [\"y\", \"me\", \"s\", \"lly\"]\n",
    "\n",
    "Zadanie 5\n",
    "Podnieść wszystkie elementy w liście do potęgi Ntej. Napisz funkcje.\n",
    "numbers = [1, 2, 3, 4, 5, 6, 7]\n",
    "\n",
    "Zadanie 6\n",
    "Połącz ze sobą dwie listy by otrzymać taki wynik: ['Hello Dear', 'Hello Sir', 'take Dear', 'take Sir']\n",
    "\n",
    "list1 = [\"Hello \", \"take \"]\n",
    "list2 = [\"Dear\", \"Sir\"]\n"
   ]
  },
  {
   "cell_type": "code",
   "execution_count": null,
   "id": "ba670efb",
   "metadata": {},
   "outputs": [],
   "source": [
    "Zadanie 1.\n",
    "Napisz program, który przekonwertuje poniższe listy w słownik.\n",
    "keys = ['Ten', 'Twenty', 'Thirty']\n",
    "values = [10, 20, 30]\n",
    "Podpowiedź: sprawdz czym jest funkcja zip()"
   ]
  },
  {
   "cell_type": "code",
   "execution_count": 1,
   "id": "8228bee8",
   "metadata": {},
   "outputs": [
    {
     "name": "stdout",
     "output_type": "stream",
     "text": [
      "{'Ten': 10, 'Twenty': 20, 'Thirty': 30}\n"
     ]
    }
   ],
   "source": [
    "keys = ['Ten', 'Twenty', 'Thirty']\n",
    "values = [10, 20, 30]\n",
    "zipper = zip(keys, values)\n",
    "print(dict(zipper))"
   ]
  },
  {
   "cell_type": "code",
   "execution_count": null,
   "id": "1f197bf5",
   "metadata": {},
   "outputs": [],
   "source": [
    "Zadanie 2.\n",
    "Połącz ze sobą dwa słowniki\n",
    "dict1 = {'Ten': 10, 'Twenty': 20, 'Thirty': 30}\n",
    "dict2 = {'Thirty': 30, 'Fourty': 40, 'Fifty': 50}"
   ]
  },
  {
   "cell_type": "code",
   "execution_count": 6,
   "id": "ac8c5297",
   "metadata": {},
   "outputs": [
    {
     "name": "stdout",
     "output_type": "stream",
     "text": [
      "{'Ten': 10, 'Twenty': 20, 'Thirty': 30, 'Fourty': 40, 'Fifty': 50}\n"
     ]
    }
   ],
   "source": [
    "dict1 = {'Ten': 10, 'Twenty': 20, 'Thirty': 30}\n",
    "dict2 = {'Thirty': 30, 'Fourty': 40, 'Fifty': 50}\n",
    "dict1.update(dict2)\n",
    "print(dict1)"
   ]
  },
  {
   "cell_type": "code",
   "execution_count": null,
   "id": "be9dd0b4",
   "metadata": {},
   "outputs": [],
   "source": [
    "Zadanie 3.\n",
    "Wyprintuj wartość, która jest przypisana do klucza 'history'\n",
    "sampleDict = {\n",
    "    \"class\": {\n",
    "        \"student\": {\n",
    "            \"name\": \"Mike\",\n",
    "            \"marks\": {\n",
    "                \"physics\": 70,\n",
    "                \"history\": 80\n",
    "            }\n",
    "        }\n",
    "    }\n",
    "}"
   ]
  },
  {
   "cell_type": "code",
   "execution_count": 1,
   "id": "1df3ab61",
   "metadata": {},
   "outputs": [
    {
     "name": "stdout",
     "output_type": "stream",
     "text": [
      "80\n"
     ]
    }
   ],
   "source": [
    "sampleDict = {\n",
    "    \"class\": {\n",
    "        \"student\": {\n",
    "            \"name\": \"Mike\",\n",
    "            \"marks\": {\n",
    "                \"physics\": 70,\n",
    "                \"history\": 80\n",
    "            }\n",
    "        }\n",
    "    }\n",
    "}\n",
    "print(sampleDict[\"class\"][\"student\"][\"marks\"][\"history\"])"
   ]
  },
  {
   "cell_type": "code",
   "execution_count": null,
   "id": "19e672de",
   "metadata": {},
   "outputs": [],
   "source": [
    "Zadanie 4.\n",
    "Napisz program, który dodać dwie listy indeksowo.\n",
    "Oczekiwany wynik: ['My', 'name', 'is', 'Kelly']\n",
    "\n",
    "list1 = [\"M\", \"na\", \"i\", \"Ke\"]\n",
    "list2 = [\"y\", \"me\", \"s\", \"lly\"]\n"
   ]
  },
  {
   "cell_type": "code",
   "execution_count": 17,
   "id": "8fbbe4c2",
   "metadata": {},
   "outputs": [
    {
     "name": "stdout",
     "output_type": "stream",
     "text": [
      "[('M', 'y'), ('na', 'me'), ('i', 's'), ('Ke', 'lly')]\n",
      "['My', 'name', 'is', 'Kelly']\n",
      "['My', 'name', 'is', 'Kelly']\n"
     ]
    }
   ],
   "source": [
    "list1 = [\"M\", \"na\", \"i\", \"Ke\"]\n",
    "list2 = [\"y\", \"me\", \"s\", \"lly\"]\n",
    "list3 = [letter + letters for letter, letters in zip(list1, list2)]\n",
    "list4 = list(zip(list1, list2))\n",
    "list5 = [letter + letters for letter, letters in zip(list1, list2)]\n",
    "print(str(list4))\n",
    "print(str(list3))\n",
    "print(str(list5))"
   ]
  },
  {
   "cell_type": "code",
   "execution_count": null,
   "id": "6c283e0d",
   "metadata": {},
   "outputs": [],
   "source": [
    "Zadanie 5\n",
    "Podnieść wszystkie elementy w liście do potęgi Ntej. Napisz funkcje.\n",
    "numbers = [1, 2, 3, 4, 5, 6, 7]"
   ]
  },
  {
   "cell_type": "code",
   "execution_count": 7,
   "id": "35dc22eb",
   "metadata": {},
   "outputs": [
    {
     "name": "stdout",
     "output_type": "stream",
     "text": [
      "1\n",
      "4\n",
      "9\n",
      "16\n",
      "25\n",
      "36\n",
      "49\n"
     ]
    }
   ],
   "source": [
    "numbers = [1, 2, 3, 4, 5, 6, 7]\n",
    "def power_n(numbers, n):\n",
    "    for number in numbers:\n",
    "        result = pow(number, n)\n",
    "        print(result)\n",
    "        \n",
    "\n",
    "        \n",
    "power_n(numbers, 2)\n",
    "\n",
    "\n",
    "\n",
    "\n"
   ]
  },
  {
   "cell_type": "code",
   "execution_count": 25,
   "id": "91d524d8",
   "metadata": {},
   "outputs": [
    {
     "name": "stdout",
     "output_type": "stream",
     "text": [
      "I miau-miau U :*\n",
      "i miau-miau U two :*\n"
     ]
    }
   ],
   "source": [
    "my_wife = input()\n",
    "if my_wife == \"I miau-miau U :*\":\n",
    "    print(\"i miau-miau U two :*\")"
   ]
  },
  {
   "cell_type": "code",
   "execution_count": 8,
   "id": "dded4d4e",
   "metadata": {},
   "outputs": [
    {
     "name": "stdout",
     "output_type": "stream",
     "text": [
      "['Hello Dear', 'Hello Sir', 'take Dear', 'take Sir']\n"
     ]
    }
   ],
   "source": [
    "\n",
    "\n",
    "list1 = [\"Hello \", \"take \"]\n",
    "list2 = [\"Dear\", \"Sir\"]\n",
    "list3 = []\n",
    "for i in list1:\n",
    "    for x in list2:\n",
    "        combined = i + x\n",
    "        list3.append(combined)\n",
    "print(list3)"
   ]
  },
  {
   "cell_type": "code",
   "execution_count": null,
   "id": "3790c682",
   "metadata": {},
   "outputs": [],
   "source": [
    "Napisz funkcję, która przyjmie listę jako parametr i \n",
    "zwróci informację o ilości elementów znajdujących się w tej liście.\n",
    "Nie używaj wbudowanej funkcji: len() oraz count()\n",
    "listed =  12, 16, 11, 10, 14, 13\n",
    "\n"
   ]
  },
  {
   "cell_type": "code",
   "execution_count": 12,
   "id": "cef0aa10",
   "metadata": {},
   "outputs": [
    {
     "name": "stdout",
     "output_type": "stream",
     "text": [
      "6\n"
     ]
    }
   ],
   "source": [
    "listed =  [12, 16, 11, 10, 14, 13]\n",
    "count = 0\n",
    "for i in listed:\n",
    "    count += 1\n",
    "print(count)\n",
    "    \n"
   ]
  },
  {
   "cell_type": "code",
   "execution_count": null,
   "id": "923890af",
   "metadata": {},
   "outputs": [],
   "source": [
    "Napisz funkcję, która przyjmie listę jako parametr i \n",
    "zwróci informację o maksymalnej liczbie znajdującej się w liście.\n",
    "Nie używaj wbudowanej funkcji max()"
   ]
  },
  {
   "cell_type": "code",
   "execution_count": 31,
   "id": "07770a30",
   "metadata": {},
   "outputs": [
    {
     "name": "stdout",
     "output_type": "stream",
     "text": [
      "16\n",
      "16\n"
     ]
    }
   ],
   "source": [
    "listed =  [12, 16, 11, 10, 14, 13]\n",
    "listed.sort()\n",
    "print(listed[-1])\n",
    "\n",
    "maximum = listed[0]\n",
    "for number in listed:\n",
    "    if number > maximum:\n",
    "        maximum = number\n",
    "print(number)\n"
   ]
  },
  {
   "cell_type": "code",
   "execution_count": null,
   "id": "3ebbd31f",
   "metadata": {},
   "outputs": [],
   "source": [
    "Napisz funkcję, która sprawdzi czy podany przez użytkownika string jest panagramem."
   ]
  },
  {
   "cell_type": "code",
   "execution_count": 19,
   "id": "86bfee61",
   "metadata": {},
   "outputs": [
    {
     "name": "stdout",
     "output_type": "stream",
     "text": [
      "letter 3 is same!\n",
      "letter 5 is same!\n",
      "letter 6 is same!\n",
      "letter 7 is same!\n",
      "letter 9 is same!\n",
      "letter 10 is same!\n",
      "letter 11 is same!\n"
     ]
    },
    {
     "ename": "IndexError",
     "evalue": "string index out of range",
     "output_type": "error",
     "traceback": [
      "\u001b[1;31m---------------------------------------------------------------------------\u001b[0m",
      "\u001b[1;31mIndexError\u001b[0m                                Traceback (most recent call last)",
      "Cell \u001b[1;32mIn[19], line 4\u001b[0m\n\u001b[0;32m      2\u001b[0m str2 \u001b[38;5;241m=\u001b[39m \u001b[38;5;124m\"\u001b[39m\u001b[38;5;124mdfghjkl\u001b[39m\u001b[38;5;124m\"\u001b[39m\n\u001b[0;32m      3\u001b[0m \u001b[38;5;28;01mfor\u001b[39;00m n \u001b[38;5;129;01min\u001b[39;00m \u001b[38;5;28mrange\u001b[39m(\u001b[38;5;241m0\u001b[39m,\u001b[38;5;28mint\u001b[39m(\u001b[38;5;28mlen\u001b[39m(alphabet))):\n\u001b[1;32m----> 4\u001b[0m     \u001b[38;5;28;01mif\u001b[39;00m str2[n] \u001b[38;5;241m==\u001b[39m alphabet[n]: \u001b[38;5;28mprint\u001b[39m(\u001b[38;5;124mf\u001b[39m\u001b[38;5;124m'\u001b[39m\u001b[38;5;124mletter \u001b[39m\u001b[38;5;132;01m{\u001b[39;00mn\u001b[38;5;132;01m}\u001b[39;00m\u001b[38;5;124m is same!\u001b[39m\u001b[38;5;124m'\u001b[39m)\n\u001b[0;32m      5\u001b[0m     \u001b[38;5;28;01mif\u001b[39;00m str2[n] \u001b[38;5;241m!=\u001b[39m alphabet[n]:\n\u001b[0;32m      6\u001b[0m         str2 \u001b[38;5;241m=\u001b[39m str2[:n] \u001b[38;5;241m+\u001b[39m alphabet[n] \u001b[38;5;241m+\u001b[39m str2[n:] \n",
      "\u001b[1;31mIndexError\u001b[0m: string index out of range"
     ]
    }
   ],
   "source": [
    "alphabet = \"abcdefghijklmnopqrstuvwxyz\"\n",
    "str2 = \"dfghjkl\"\n",
    "for n in range(0,int(len(alphabet))):\n",
    "    if str2[n] == alphabet[n]: print(f'letter {n} is same!')\n",
    "    if str2[n] != alphabet[n]:\n",
    "        str2 = str2[:n] + alphabet[n] + str2[n:] \n",
    "\n",
    "print(f'str1 is {alphabet}')\n",
    "print(f'str2 is {str2}')"
   ]
  },
  {
   "cell_type": "code",
   "execution_count": null,
   "id": "331a2e1e",
   "metadata": {},
   "outputs": [],
   "source": []
  }
 ],
 "metadata": {
  "kernelspec": {
   "display_name": "Python 3 (ipykernel)",
   "language": "python",
   "name": "python3"
  },
  "language_info": {
   "codemirror_mode": {
    "name": "ipython",
    "version": 3
   },
   "file_extension": ".py",
   "mimetype": "text/x-python",
   "name": "python",
   "nbconvert_exporter": "python",
   "pygments_lexer": "ipython3",
   "version": "3.11.4"
  }
 },
 "nbformat": 4,
 "nbformat_minor": 5
}
